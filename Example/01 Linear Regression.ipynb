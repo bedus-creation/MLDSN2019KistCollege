{
 "cells": [
  {
   "cell_type": "raw",
   "metadata": {},
   "source": [
    "# Importing the model\n",
    "from sklearn import linear_model\n",
    "reg_linear = linear_model.LinearRegression()\n",
    "\n",
    "# Fitting\n",
    "reg_linear.fit(X_train, y_train)\n",
    "y_test_pred = reg_linear.predict(X_test)"
   ]
  }
 ],
 "metadata": {
  "kernelspec": {
   "display_name": "Python 3",
   "language": "python",
   "name": "python3"
  },
  "language_info": {
   "codemirror_mode": {
    "name": "ipython",
    "version": 3
   },
   "file_extension": ".py",
   "mimetype": "text/x-python",
   "name": "python",
   "nbconvert_exporter": "python",
   "pygments_lexer": "ipython3",
   "version": "3.7.3"
  }
 },
 "nbformat": 4,
 "nbformat_minor": 2
}
