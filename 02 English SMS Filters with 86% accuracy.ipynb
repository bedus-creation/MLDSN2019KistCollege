{
 "cells": [
  {
   "cell_type": "code",
   "execution_count": 44,
   "metadata": {},
   "outputs": [
    {
     "data": {
      "text/plain": [
       "array([<matplotlib.axes._subplots.AxesSubplot object at 0x7fc93c190e10>,\n",
       "       <matplotlib.axes._subplots.AxesSubplot object at 0x7fc93c3bbe10>],\n",
       "      dtype=object)"
      ]
     },
     "execution_count": 44,
     "metadata": {},
     "output_type": "execute_result"
    },
    {
     "data": {
      "image/png": "[encoded data removed]",
      "text/plain": [
       "<Figure size 432x288 with 2 Axes>"
      ]
     },
     "metadata": {
      "needs_background": "light"
     },
     "output_type": "display_data"
    }
   ],
   "source": [
    "# Msg \n",
    "import pandas as pd\n",
    "\n",
    "#In my computer, the folder is placed in Desktop\n",
    "filename=r'csv/EnglishSpam.csv'\n",
    "data = pd.read_csv(filename,sep=\"\\t\",header=None)\n",
    "\n",
    "data=data.rename(columns = {0:'label',1:'message'})\n",
    "# print(data.head())\n",
    "data['length'] = data['message'].map(lambda text: len(text))\n",
    "\n",
    "data.hist(column='length', by='label', bins=50)\n",
    "# plt.xlabel(\"Life Expectancy\", fontsize=15)\n",
    "# plt.ylabel(\"Frequency\",fontsize=15)\n",
    "# plt.xlim([22.0,90.0])"
   ]
  },
  {
   "cell_type": "code",
   "execution_count": 67,
   "metadata": {},
   "outputs": [],
   "source": [
    "from sklearn.model_selection import train_test_split+\n",
    "labels=data[\"label\"]\n",
    "features=data[[\"length\"]]\n",
    "train, test, train_labels, test_labels = train_test_split(features,labels,test_size = 0.40, random_state = 42)"
   ]
  },
  {
   "cell_type": "code",
   "execution_count": 68,
   "metadata": {},
   "outputs": [],
   "source": [
    "# Build the model\n",
    "# Gaussian\n",
    "from sklearn.naive_bayes import GaussianNB\n",
    "gnb = GaussianNB()\n",
    "model = gnb.fit(train, train_labels)"
   ]
  },
  {
   "cell_type": "code",
   "execution_count": 71,
   "metadata": {},
   "outputs": [
    {
     "name": "stdout",
     "output_type": "stream",
     "text": [
      "['ham' 'ham' 'ham' ... 'ham' 'ham' 'ham']\n"
     ]
    }
   ],
   "source": [
    "# Measure the accuracy\n",
    "preds = gnb.predict(test)\n",
    "print(preds)"
   ]
  },
  {
   "cell_type": "code",
   "execution_count": 70,
   "metadata": {},
   "outputs": [
    {
     "name": "stdout",
     "output_type": "stream",
     "text": [
      "0.8694481830417228\n"
     ]
    }
   ],
   "source": [
    "# Text Accuracy\n",
    "from sklearn.metrics import accuracy_score\n",
    "print(accuracy_score(test_labels,preds))"
   ]
  },
  {
   "cell_type": "code",
   "execution_count": null,
   "metadata": {},
   "outputs": [],
   "source": []
  }
 ],
 "metadata": {
  "kernelspec": {
   "display_name": "Python 3",
   "language": "python",
   "name": "python3"
  },
  "language_info": {
   "codemirror_mode": {
    "name": "ipython",
    "version": 3
   },
   "file_extension": ".py",
   "mimetype": "text/x-python",
   "name": "python",
   "nbconvert_exporter": "python",
   "pygments_lexer": "ipython3",
   "version": "3.7.3"
  }
 },
 "nbformat": 4,
 "nbformat_minor": 2
}
